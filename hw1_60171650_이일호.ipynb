{
 "cells": [
  {
   "cell_type": "code",
   "execution_count": 18,
   "id": "german-replication",
   "metadata": {},
   "outputs": [
    {
     "name": "stdout",
     "output_type": "stream",
     "text": [
      "['cs', 'cs', 'dt', 'dcd', 'dt', 'as', 'as', 'ice', 'ice', 'ice']\n",
      "['0001', '0002', '0003', '0004', '0005', '0006', '0007', '0008', '0009', '0010']\n",
      "[2.1, 3.5, 4.5, 2.7, 3.0, 3.15, 4.0, 0.0, 3.25, 3.7]\n"
     ]
    }
   ],
   "source": [
    "# hw1_60171650_이일호\n",
    "# 1-a\n",
    "dep = [\"cs\",\"cs\",'dt','dcd','dt','as','as','ice','ice','ice'] #dep 변수에 리스트를 선언하고 데이터를 삽입한다.\n",
    "sno = ['0001' ,'0002','0003','0004','0005','0006','0007','0008','0009','0010'] #sno 라는 변수에 리스트를 선언하고 데이터를 삽입한다.\n",
    "gpa = [2.10,3.50,4.50,2.70,3.00,3.15,4.00,0.00,3.25,3.70]#gpa 라는 변수에 리스트를 선언하고  데이터를 삽입한다.\n",
    "print(dep) #dep 리스트를 출력한다.\n",
    "print(sno) #sno 리스트를 출력한다.\n",
    "print(gpa) #gpa 리스트를 출력한다."
   ]
  },
  {
   "cell_type": "code",
   "execution_count": 19,
   "id": "viral-database",
   "metadata": {},
   "outputs": [
    {
     "name": "stdout",
     "output_type": "stream",
     "text": [
      "['cs' 'cs' 'dt' 'dcd' 'dt' 'as' 'as' 'ice' 'ice' 'ice']\n",
      "['0001' '0002' '0003' '0004' '0005' '0006' '0007' '0008' '0009' '0010']\n",
      "[2.1  3.5  4.5  2.7  3.   3.15 4.   0.   3.25 3.7 ]\n"
     ]
    }
   ],
   "source": [
    "#1-b\n",
    "import numpy as np #numpy 모듈을 import하고 이름을 np로 지정한다.\n",
    "dep = np.array(['cs','cs','dt','dcd','dt','as','as','ice','ice','ice']) #넘파이 모듈의 array함수를 이용하여 dep list를 선언하고 데이터를 저장한다.\n",
    "sno = np.array(['0001' ,'0002','0003','0004','0005','0006','0007','0008','0009','0010'])#넘파이 모듈의 array함수를 이용하여 sno list를 선언하고 데이터를 저장한다.\n",
    "gpa = np.array([2.10,3.50,4.50,2.70,3.00,3.15,4.00,0.00,3.25,3.70])#넘파이 모듈의 array함수를 이용하여 gpa list를 선언하고 데이터를 저장한다.\n",
    "print(dep) #dep 리스트를 출력한다.\n",
    "print(sno) #sno 리스트를 출력한다.\n",
    "print(gpa) #gpa 리스트를 출력한다."
   ]
  },
  {
   "cell_type": "code",
   "execution_count": 20,
   "id": "first-award",
   "metadata": {},
   "outputs": [
    {
     "name": "stdout",
     "output_type": "stream",
     "text": [
      "0     cs\n",
      "1     cs\n",
      "2     dt\n",
      "3    dcd\n",
      "4     dt\n",
      "5     as\n",
      "6     as\n",
      "7    ice\n",
      "8    ice\n",
      "9    ice\n",
      "dtype: object\n",
      "0    0001\n",
      "1    0002\n",
      "2    0003\n",
      "3    0004\n",
      "4    0005\n",
      "5    0006\n",
      "6    0007\n",
      "7    0008\n",
      "8    0009\n",
      "9    0010\n",
      "dtype: object\n",
      "0    2.10\n",
      "1    3.50\n",
      "2    4.50\n",
      "3    2.70\n",
      "4    3.00\n",
      "5    3.15\n",
      "6    4.00\n",
      "7    0.00\n",
      "8    3.25\n",
      "9    3.70\n",
      "dtype: float64\n"
     ]
    }
   ],
   "source": [
    "#1-c\n",
    "import pandas as pd # pandas 모듈을 import하고 이름을 pd로 지정한다.\n",
    "dep= pd.Series(['cs','cs','dt','dcd','dt','as','as','ice','ice','ice'])# pandas 모듈의 Series함수를 이용하여 dep 리스트를 선언하고 데이터를 삽입한다.\n",
    "sno= pd.Series(['0001' ,'0002','0003','0004','0005','0006','0007','0008','0009','0010'])# pandas 모듈의 Series함수를 이용하여 sno 리스트를 선언하고 데이터를 삽입한다.\n",
    "gpa= pd.Series([2.10,3.50,4.50,2.70,3.00,3.15,4.00,0.00,3.25,3.70])# pandas 모듈의 Series함수를 이용하여 gpa 리스트를 선언하고 데이터를 삽입한다.\n",
    "print(dep) #dep 리스트를 출력한다.\n",
    "print(sno) #sno 리스트를 출력한다.\n",
    "print(gpa) #gpa 리스트를 출력한다."
   ]
  },
  {
   "cell_type": "code",
   "execution_count": 21,
   "id": "tamil-spanking",
   "metadata": {},
   "outputs": [
    {
     "name": "stdout",
     "output_type": "stream",
     "text": [
      "2.99\n"
     ]
    }
   ],
   "source": [
    "#2-a\n",
    "gpa = [2.10,3.50,4.50,2.70,3.00,3.15,4.00,0.00,3.25,3.70] #gpa 변수에 리스트를 선언하고 데이터를 삽입한다.\n",
    "sum = 0 #sum 이라는 변수를 선언하고 0값을 할당한다.\n",
    "for i in gpa: \n",
    "    sum = sum +i #for문을 이용해 gpa리스트를 돌면서 sum에다가 리스트의 값을 추가한다.\n",
    "mean=sum/len(gpa)# mean이라는 변수를 선언하고 sum 값을 gpa리스트의 갯수로 나눈값을 할당한다.\n",
    "print('%.2f' %mean)# 소수점 둘째자리까지 출력한다."
   ]
  },
  {
   "cell_type": "code",
   "execution_count": 22,
   "id": "charged-labor",
   "metadata": {},
   "outputs": [
    {
     "name": "stdout",
     "output_type": "stream",
     "text": [
      "2.99\n",
      "3.20\n"
     ]
    }
   ],
   "source": [
    "#2-b\n",
    "import numpy as np #numpy 모듈을 import하고 이름을 np로 지정한다.\n",
    "dep = np.array(['cs','cs','dt','dcd','dt','as','as','ice','ice','ice']) #넘파이 모듈의 array함수를 이용하여 dep list를 선언하고 데이터를 저장한다.\n",
    "sno = np.array(['0001' ,'0002','0003','0004','0005','0006','0007','0008','0009','0010'])#넘파이 모듈의 array함수를 이용하여 sno list를 선언하고 데이터를 저장한다.\n",
    "gpa = np.array([2.10,3.50,4.50,2.70,3.00,3.15,4.00,0.00,3.25,3.70])#넘파이 모듈의 array함수를 이용하여 gpa list를 선언하고 데이터를 저장한다.\n",
    "print('%.2f' %np.mean(gpa)) #numpy 모듈의 mean함수를 사용하여 gpa의 mean 값을 소수점 둘째자리까지 출력한다.\n",
    "print('%.2f' %np.median(gpa))#numpy 모듈의 median함수를 사용하여 gpa의 median 값을 소수점 둘째자리까지 출력한다."
   ]
  },
  {
   "cell_type": "code",
   "execution_count": 23,
   "id": "italian-exclusive",
   "metadata": {},
   "outputs": [
    {
     "name": "stdout",
     "output_type": "stream",
     "text": [
      "2.99\n",
      "3.20\n"
     ]
    }
   ],
   "source": [
    "#2-c\n",
    "import pandas as pd # pandas 모듈을 import하고 이름을 pd로 지정한다.\n",
    "dep= pd.Series(['cs','cs','dt','dcd','dt','as','as','ice','ice','ice'])# pandas 모듈의 Series함수를 이용하여 dep 리스트를 선언하고 데이터를 삽입한다.\n",
    "sno= pd.Series(['0001' ,'0002','0003','0004','0005','0006','0007','0008','0009','0010'])# pandas 모듈의 Series함수를 이용하여 sno 리스트를 선언하고 데이터를 삽입한다.\n",
    "gpa= pd.Series([2.10,3.50,4.50,2.70,3.00,3.15,4.00,0.00,3.25,3.70])# pandas 모듈의 Series함수를 이용하여 gpa 리스트를 선언하고 데이터를 삽입한다. \n",
    "print('%.2f' %gpa.mean())# pandas 모듈의 mean 함수를 이용하여 gpa의 mean값을 소수점둘째자리까지 출력한다.\n",
    "print('%.2f' %gpa.median())# pandas 모듈의 median 함수를 이용하여 gpa의 median 값을 소수점 둘째자리까지 출력한다."
   ]
  },
  {
   "cell_type": "code",
   "execution_count": 24,
   "id": "rotary-california",
   "metadata": {},
   "outputs": [
    {
     "name": "stdout",
     "output_type": "stream",
     "text": [
      "3.2\n"
     ]
    }
   ],
   "source": [
    "#3\n",
    "\n",
    "gpa = [2.10,3.50,4.50,2.70,3.00,3.15,4.00,0.00,3.25,3.70]\n",
    "def median(list): #median 함수를 선언한다.\n",
    "    median = 0 #median 변수를 선언하고 0을 할당한다.\n",
    "    list.sort() # median 함수의 매개변수로 받는 리스트를 정렬한다.\n",
    "    if len(list)%2==1: #리스트의 길이가 홀수일때 는 리스트의 중앙에 있는 값을 median값으로 지정한다.\n",
    "        median = list[len(list)//2]\n",
    "    else:#리스트의 길이가 짝수일때는 중앙에 있는 두값의 평균을 median값으로 지정한다.\n",
    "        median = (list[(len(list)//2)-1] + list[len(list)//2])/2\n",
    "    return median #median 값을 return 한다.\n",
    "print(median(gpa))# median 함수를 이용하여 gpa리스트의 median 값을 출력한다."
   ]
  },
  {
   "cell_type": "code",
   "execution_count": 16,
   "id": "subtle-tennessee",
   "metadata": {},
   "outputs": [
    {
     "name": "stdout",
     "output_type": "stream",
     "text": [
      "   dep   sno  gpa\n",
      "9  ice  0010  3.7\n"
     ]
    }
   ],
   "source": [
    "#4\n",
    "import pandas as pd # pandas 모듈을 import하고 이름을 pd로 지정한다.\n",
    "dep= pd.Series(['cs','cs','dt','dcd','dt','as','as','ice','ice','ice'])# pandas 모듈의 Series함수를 이용하여 dep 리스트를 선언하고 데이터를 삽입한다.\n",
    "sno= pd.Series(['0001' ,'0002','0003','0004','0005','0006','0007','0008','0009','0010'])# pandas 모듈의 Series함수를 이용하여 sno 리스트를 선언하고 데이터를 삽입한다.\n",
    "gpa= pd.Series([2.10,3.50,4.50,2.70,3.00,3.15,4.00,0.00,3.25,3.70])# pandas 모듈의 Series함수를 이용하여 gpa 리스트를 선언하고 데이터를 삽입한다. \n",
    "tb2 = pd.DataFrame({\"dep\":dep,\n",
    "                    \"sno\":sno,\n",
    "                    \"gpa\":gpa})# tb2라는 변수에 판다스 모듈의 dataframe 함수를 이용하여 2차원형태로 구성한다.\n",
    "print(tb2.sort_values(by=\"gpa\",ascending=False)[2:3])# gpa값을 기준으로 내림차순으로 정렬하여 3번째 row를 출력한다."
   ]
  },
  {
   "cell_type": "code",
   "execution_count": 25,
   "id": "sticky-release",
   "metadata": {},
   "outputs": [
    {
     "name": "stdout",
     "output_type": "stream",
     "text": [
      "dep\n",
      "as     3.575000\n",
      "cs     2.800000\n",
      "dcd    2.700000\n",
      "dt     3.750000\n",
      "ice    2.316667\n",
      "Name: gpa, dtype: float64\n",
      "dep\n",
      "as     4.0\n",
      "cs     3.5\n",
      "dcd    2.7\n",
      "dt     4.5\n",
      "ice    3.7\n",
      "Name: gpa, dtype: float64\n",
      "dep\n",
      "as     3.15\n",
      "cs     2.10\n",
      "dcd    2.70\n",
      "dt     3.00\n",
      "ice    0.00\n",
      "Name: gpa, dtype: float64\n"
     ]
    }
   ],
   "source": [
    "#5\n",
    "import pandas as pd # pandas 모듈을 import하고 이름을 pd로 지정한다.\n",
    "dep= pd.Series(['cs','cs','dt','dcd','dt','as','as','ice','ice','ice'])# pandas 모듈의 Series함수를 이용하여 dep 리스트를 선언하고 데이터를 삽입한다.\n",
    "sno= pd.Series(['0001' ,'0002','0003','0004','0005','0006','0007','0008','0009','0010'])# pandas 모듈의 Series함수를 이용하여 sno 리스트를 선언하고 데이터를 삽입한다.\n",
    "gpa= pd.Series([2.10,3.50,4.50,2.70,3.00,3.15,4.00,0.00,3.25,3.70])# pandas 모듈의 Series함수를 이용하여 gpa 리스트를 선언하고 데이터를 삽입한다. \n",
    "tb2 = pd.DataFrame({\"dep\":dep,\n",
    "                    \"sno\":sno,\n",
    "                    \"gpa\":gpa})# tb2라는 변수에 판다스 모듈의 dataframe 함수를 이용하여 2차원형태로 구성한다.\n",
    "grouped= tb2['gpa'].groupby(tb2['dep']) #grouped라는 변수를 선언하고 gpa값을 dep값에 따라 그룹별로 나눈다.\n",
    "print(grouped.mean())# 그룹별로 gpa값의 평균값 출력\n",
    "print(grouped.max())# 그룹별로 gpa 값의 최대값 출력\n",
    "print(grouped.min())#그룹별로 gpa 값의 최소값 출력"
   ]
  },
  {
   "cell_type": "code",
   "execution_count": 26,
   "id": "eight-southeast",
   "metadata": {},
   "outputs": [
    {
     "name": "stdout",
     "output_type": "stream",
     "text": [
      "      gpa               \n",
      "year 2018 2019 2020 2021\n",
      "dep                     \n",
      "as    NaN  NaN  3.6  3.7\n",
      "cs    2.8  NaN  0.0  NaN\n",
      "dt    NaN  3.6  3.0  3.2\n"
     ]
    }
   ],
   "source": [
    "#6\n",
    "import pandas as pd # pandas 모듈을 import하고 이름을 pd로 지정한다.\n",
    "tb3 = pd.DataFrame({ 'dep' : [\"cs\", \"cs\", \"dt\", \"dt\", \"dt\", \"as\", \"as\", \"cs\", \"dt\", \"as\"],\n",
    "'sno' : [\"0001\", \"0002\", \"0003\", \"0004\", \"0005\", \"0006\", \"0007\", \"0008\", \"0009\", \"0010\"], 'gpa' : [2.10, 3.50, 4.50, 2.70, 3.00, 3.20, 4.00, 0.00, 3.20, 3.70],\n",
    "'year' : [2018, 2018, 2019, 2019, 2020, 2020, 2020, 2020, 2021, 2021]}) #데이터 프레임 함수를 이용하여 tb3라는 변수에 데이터를 저장한다.\n",
    "a=tb3.groupby(['dep','year'],as_index = False).mean()# a라는 변수에 tb3를 dep,year로 그룹별로 나누고 이그룹에 인덱스로 설정하지 않으며 그룹별로 나눈것의 평균값을 할당한다.\n",
    "print(a.pivot(\"dep\",'year')) #pivot 함수를 이용해 행데이터를 열데이터로 회전시킨다."
   ]
  },
  {
   "cell_type": "code",
   "execution_count": null,
   "id": "private-brazil",
   "metadata": {},
   "outputs": [],
   "source": []
  }
 ],
 "metadata": {
  "kernelspec": {
   "display_name": "Python 3",
   "language": "python",
   "name": "python3"
  },
  "language_info": {
   "codemirror_mode": {
    "name": "ipython",
    "version": 3
   },
   "file_extension": ".py",
   "mimetype": "text/x-python",
   "name": "python",
   "nbconvert_exporter": "python",
   "pygments_lexer": "ipython3",
   "version": "3.9.1"
  }
 },
 "nbformat": 4,
 "nbformat_minor": 5
}
